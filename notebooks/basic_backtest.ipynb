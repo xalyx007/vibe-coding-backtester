{
 "cells": [
  {
   "cell_type": "markdown",
   "id": "9557c3ec",
   "metadata": {},
   "source": [
    "# Basic Backtest Example\n",
    "\n",
    "This notebook demonstrates how to use the Modular Backtesting System to run a simple backtest using a moving average crossover strategy."
   ]
  },
  {
   "cell_type": "code",
   "execution_count": 2,
   "id": "cbd90cce",
   "metadata": {},
   "outputs": [],
   "source": [
    "import pandas as pd\n",
    "import numpy as np\n",
    "import matplotlib.pyplot as plt\n",
    "import seaborn as sns\n",
    "\n",
    "# Set up plotting style\n",
    "sns.set_style('whitegrid')\n",
    "plt.rcParams['figure.figsize'] = (12, 6)"
   ]
  },
  {
   "cell_type": "code",
   "execution_count": 3,
   "id": "e8384acb",
   "metadata": {},
   "outputs": [
    {
     "ename": "ModuleNotFoundError",
     "evalue": "No module named 'backtester'",
     "output_type": "error",
     "traceback": [
      "\u001b[0;31m---------------------------------------------------------------------------\u001b[0m",
      "\u001b[0;31mModuleNotFoundError\u001b[0m                       Traceback (most recent call last)",
      "Cell \u001b[0;32mIn[3], line 2\u001b[0m\n\u001b[1;32m      1\u001b[0m \u001b[38;5;66;03m# Import backtester modules\u001b[39;00m\n\u001b[0;32m----> 2\u001b[0m \u001b[38;5;28;01mfrom\u001b[39;00m \u001b[38;5;21;01mbacktester\u001b[39;00m\u001b[38;5;21;01m.\u001b[39;00m\u001b[38;5;21;01mdata\u001b[39;00m \u001b[38;5;28;01mimport\u001b[39;00m CSVDataSource\n\u001b[1;32m      3\u001b[0m \u001b[38;5;28;01mfrom\u001b[39;00m \u001b[38;5;21;01mbacktester\u001b[39;00m\u001b[38;5;21;01m.\u001b[39;00m\u001b[38;5;21;01mstrategy\u001b[39;00m \u001b[38;5;28;01mimport\u001b[39;00m MovingAverageCrossover\n\u001b[1;32m      4\u001b[0m \u001b[38;5;28;01mfrom\u001b[39;00m \u001b[38;5;21;01mbacktester\u001b[39;00m\u001b[38;5;21;01m.\u001b[39;00m\u001b[38;5;21;01mportfolio\u001b[39;00m \u001b[38;5;28;01mimport\u001b[39;00m SimplePortfolioManager\n",
      "\u001b[0;31mModuleNotFoundError\u001b[0m: No module named 'backtester'"
     ]
    }
   ],
   "source": [
    "# Import backtester modules\n",
    "from backtester.data import CSVDataSource\n",
    "from backtester.strategy import MovingAverageCrossover\n",
    "from backtester.portfolio import SimplePortfolioManager\n",
    "from backtester.core.engine import Backtester\n",
    "from backtester.validation.metrics import calculate_metrics\n",
    "from backtester.analysis.visualization import plot_equity_curve, plot_drawdown"
   ]
  },
  {
   "cell_type": "markdown",
   "id": "dc1a9fb5",
   "metadata": {},
   "source": [
    "## Loading Data\n",
    "\n",
    "First, we'll load the data from a CSV file."
   ]
  },
  {
   "cell_type": "code",
   "execution_count": null,
   "id": "706ab62d",
   "metadata": {},
   "outputs": [],
   "source": [
    "# Create a data source\n",
    "print(\"Loading data...\")\n",
    "data_source = CSVDataSource(\n",
    "    file_path=\"../data/yahoo/1d/BTC_USD.csv\",\n",
    "    date_format=\"%Y-%m-%d\",\n",
    "    timestamp_column=\"Date\",\n",
    "    open_column=\"Open\",\n",
    "    high_column=\"High\",\n",
    "    low_column=\"Low\",\n",
    "    close_column=\"Close\",\n",
    "    volume_column=\"Volume\"\n",
    ")\n",
    "\n",
    "# Load the data\n",
    "data = data_source.load_data()\n",
    "print(f\"Loaded {len(data)} data points.\")\n",
    "\n",
    "# Display the first few rows of data\n",
    "data.head()"
   ]
  },
  {
   "cell_type": "markdown",
   "id": "fedb2a88",
   "metadata": {},
   "source": [
    "## Creating a Strategy\n",
    "\n",
    "Next, we'll create a moving average crossover strategy."
   ]
  },
  {
   "cell_type": "code",
   "execution_count": null,
   "id": "f9d863a5",
   "metadata": {},
   "outputs": [],
   "source": [
    "# Create a strategy\n",
    "print(\"Creating strategy...\")\n",
    "strategy = MovingAverageCrossover(\n",
    "    short_window=20,  # 20-day short-term moving average\n",
    "    long_window=50    # 50-day long-term moving average\n",
    ")\n",
    "\n",
    "# Generate signals\n",
    "signals = strategy.generate_signals(data)\n",
    "print(f\"Generated {len(signals)} signals.\")\n",
    "\n",
    "# Display the first few signals\n",
    "signals.head()"
   ]
  },
  {
   "cell_type": "markdown",
   "id": "6c56b9aa",
   "metadata": {},
   "source": [
    "## Setting Up Portfolio Management\n",
    "\n",
    "Now, we'll create a portfolio manager to handle our trades."
   ]
  },
  {
   "cell_type": "code",
   "execution_count": null,
   "id": "5688847e",
   "metadata": {},
   "outputs": [],
   "source": [
    "# Create a portfolio manager\n",
    "print(\"Creating portfolio manager...\")\n",
    "portfolio_manager = SimplePortfolioManager(\n",
    "    initial_capital=10000,  # Starting with $10,000\n",
    "    position_size=0.1       # Invest 10% of capital in each position\n",
    ")"
   ]
  },
  {
   "cell_type": "markdown",
   "id": "4f2d846a",
   "metadata": {},
   "source": [
    "## Running the Backtest\n",
    "\n",
    "Now we'll run the backtest using our data, strategy, and portfolio manager."
   ]
  },
  {
   "cell_type": "code",
   "execution_count": null,
   "id": "8847695d",
   "metadata": {},
   "outputs": [],
   "source": [
    "# Create a backtester\n",
    "print(\"Running backtest...\")\n",
    "backtester = Backtester(\n",
    "    data=data,\n",
    "    strategy=strategy,\n",
    "    portfolio_manager=portfolio_manager\n",
    ")\n",
    "\n",
    "# Run the backtest\n",
    "results = backtester.run()\n",
    "print(f\"Backtest completed with {len(results.portfolio_values)} results.\")"
   ]
  },
  {
   "cell_type": "markdown",
   "id": "4b079589",
   "metadata": {},
   "source": [
    "## Analyzing the Results\n",
    "\n",
    "Let's calculate and display the performance metrics."
   ]
  },
  {
   "cell_type": "code",
   "execution_count": null,
   "id": "c5f5c08b",
   "metadata": {},
   "outputs": [],
   "source": [
    "# Calculate performance metrics\n",
    "print(\"Calculating performance metrics...\")\n",
    "metrics = calculate_metrics(\n",
    "    returns=results.returns,\n",
    "    positions=results.positions,\n",
    "    trades=results.trades\n",
    ")\n",
    "\n",
    "# Display the metrics\n",
    "print(\"\\nPerformance Metrics:\")\n",
    "for key, value in metrics.items():\n",
    "    print(f\"{key}: {value:.4f}\")"
   ]
  },
  {
   "cell_type": "markdown",
   "id": "ec8bf9d1",
   "metadata": {},
   "source": [
    "## Visualizing the Results\n",
    "\n",
    "Finally, let's visualize the equity curve and drawdown."
   ]
  },
  {
   "cell_type": "code",
   "execution_count": null,
   "id": "5f5b8389",
   "metadata": {},
   "outputs": [],
   "source": [
    "# Plot the equity curve\n",
    "plt.figure(figsize=(12, 6))\n",
    "plt.title('Equity Curve')\n",
    "plt.plot(results.portfolio_values)\n",
    "plt.xlabel('Date')\n",
    "plt.ylabel('Portfolio Value ($)')\n",
    "plt.grid(True)\n",
    "plt.show()"
   ]
  },
  {
   "cell_type": "code",
   "execution_count": null,
   "id": "1b387e76",
   "metadata": {},
   "outputs": [],
   "source": [
    "# Calculate drawdown\n",
    "peak = results.portfolio_values.cummax()\n",
    "drawdown = (results.portfolio_values - peak) / peak\n",
    "\n",
    "# Plot the drawdown\n",
    "plt.figure(figsize=(12, 6))\n",
    "plt.title('Drawdown')\n",
    "plt.plot(drawdown)\n",
    "plt.xlabel('Date')\n",
    "plt.ylabel('Drawdown (%)')\n",
    "plt.grid(True)\n",
    "plt.show()"
   ]
  },
  {
   "cell_type": "markdown",
   "id": "158c6d97",
   "metadata": {},
   "source": [
    "## Conclusion\n",
    "\n",
    "In this notebook, we've demonstrated how to use the Modular Backtesting System to run a simple backtest using a moving average crossover strategy. We've loaded data, created a strategy, set up portfolio management, run the backtest, and analyzed the results."
   ]
  }
 ],
 "metadata": {
  "kernelspec": {
   "display_name": "Python 3 (ipykernel)",
   "language": "python",
   "name": "python3"
  },
  "language_info": {
   "codemirror_mode": {
    "name": "ipython",
    "version": 3
   },
   "file_extension": ".py",
   "mimetype": "text/x-python",
   "name": "python",
   "nbconvert_exporter": "python",
   "pygments_lexer": "ipython3",
   "version": "3.12.4"
  }
 },
 "nbformat": 4,
 "nbformat_minor": 5
}
